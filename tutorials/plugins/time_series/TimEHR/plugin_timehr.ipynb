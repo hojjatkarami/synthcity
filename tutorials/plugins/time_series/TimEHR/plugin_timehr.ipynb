{
 "cells": [
  {
   "cell_type": "markdown",
   "metadata": {
    "collapsed": true
   },
   "source": [
    "# TimEHR\n",
    "\n",
    "This tutorial will demonstrate how to utilize the `TimeEHR` class to generate synthetic electronic health records (EHR) data. TimeEHR can generate `irregularly sampled` time series with `missing values`. Presently, it only supports *continuous-valued* time series data. It employs `CTGAN` to initially generate static data and then generates time series conditioned on the static data.\n",
    "\n",
    "\n",
    "* Please check out the [TimeEHR GitHub repository](https://github.com/hojjatkarami/TimEHR) for more information.\n",
    "* You can find the original paper [here](https://arxiv.org/abs/2402.06318).\n",
    "* To install required libraries:\n",
    "    ```\n",
    "    pip install wandb python-dotenv hydra-core\n",
    "    ```\n",
    "### Config file\n",
    "* we use `hydra` to manage the configuration files. The configuration files are located in the `configs` folder. we use `configs/config.yaml` file to set the parameters of the TimeEHR class.\n",
    "Data configs are stored in `configs/data/{DATA}.yaml`.\n",
    "* Download the config files from original repository [here](https://github.com/hojjatkarami/TimEHR/tree/main) and put it in the same folder as the this notebook.\n",
    "\n",
    "\n",
    "### Datasets\n",
    "* Follow the [instructions](https://github.com/hojjatkarami/TimEHR/tree/main/data) to prepare `P12` or `P19` datasets, which are two EHRs datasets contatining irregularly sampled time series data for many ICU patients.\n",
    "* Alternatively, you can download them from [here](https://drive.google.com/drive/folders/1QsK1tcH5NV5Xu2cEMOJvCy3IicSvRSme?usp=sharing).\n",
    "* put the datasets in a folder and update the `path_processed` from data config file."
   ]
  },
  {
   "cell_type": "code",
   "execution_count": null,
   "metadata": {},
   "outputs": [],
   "source": [
    "# !pip install synthcity\n",
    "# !pip uninstall -y torchaudio torchdata\n",
    "\n",
    "\n",
    "# activate line execution\n",
    "from IPython.core.interactiveshell import InteractiveShell\n",
    "InteractiveShell.ast_node_interactivity = \"all\"\n",
    "\n",
    "# auto reload modules. useful for development\n",
    "%load_ext autoreload\n",
    "%autoreload 2"
   ]
  },
  {
   "cell_type": "code",
   "execution_count": null,
   "metadata": {},
   "outputs": [],
   "source": [
    "# make sure the src folder is in the python path. usefule for development\n",
    "import sys\n",
    "sys.path.insert(0,\"../src\")"
   ]
  },
  {
   "cell_type": "code",
   "execution_count": null,
   "metadata": {},
   "outputs": [],
   "source": [
    "# stdlib\n",
    "import sys\n",
    "import warnings\n",
    "\n",
    "from tqdm import tqdm\n",
    "\n",
    "# synthcity absolute\n",
    "import synthcity.logger as log\n",
    "from synthcity.plugins import Plugins\n",
    "\n",
    "log.add(sink=sys.stderr, level=\"INFO\")\n",
    "warnings.filterwarnings(\"ignore\")"
   ]
  },
  {
   "cell_type": "markdown",
   "metadata": {},
   "source": [
    "# Load configs\n",
    "\n"
   ]
  },
  {
   "cell_type": "code",
   "execution_count": null,
   "metadata": {},
   "outputs": [],
   "source": [
    "# you can't run thic cell twice. You have to restart the kernel.\n",
    "\n",
    "from hydra import initialize, compose\n",
    "from omegaconf import OmegaConf\n",
    "\n",
    "initialize(version_base=None, config_path=\"configs\")\n",
    "cfg = compose(config_name=\"config.yaml\")"
   ]
  },
  {
   "cell_type": "markdown",
   "metadata": {},
   "source": [
    "# Load datasets"
   ]
  },
  {
   "cell_type": "code",
   "execution_count": null,
   "metadata": {},
   "outputs": [],
   "source": [
    "from synthcity.plugins.core.models.timehr.data_utils import get_datasets\n",
    "\n",
    "train_dataset, val_dataset = get_datasets(\n",
    "        cfg.data, split=cfg.split, preprocess=True\n",
    "    )"
   ]
  },
  {
   "cell_type": "markdown",
   "metadata": {},
   "source": [
    "# Import model"
   ]
  },
  {
   "cell_type": "code",
   "execution_count": null,
   "metadata": {},
   "outputs": [],
   "source": [
    "from synthcity.plugins import Plugins\n",
    "\n",
    "generators = Plugins()\n",
    "\n",
    "# check if the plugin is available\n",
    "\"timehr\" in generators.list()\n",
    "\n",
    "# get the plugin\n",
    "timehr_model = Plugins().get(\"timehr\", cfg)"
   ]
  },
  {
   "cell_type": "markdown",
   "metadata": {},
   "source": [
    "# Train\n",
    "\n",
    "* It is highly recommended to use `wandb` to log the training process. You can create a free account on [wandb](https://wandb.ai/site) and get your API key from [here](https://wandb.ai/authorize). Put the API key in a `.env` file in the root directory of the project.\n",
    "\n",
    "```bash\n",
    "WANDB_API_KEY=your_api_key\n",
    "```\n",
    "\n",
    "* TimEHR will train two modules: `CWGAN` and `Pix2pix`. Please check the original paper for more information about these models. Each module will be saved in a separate wandb project. You can check the training process on the wandb dashboard."
   ]
  },
  {
   "cell_type": "code",
   "execution_count": null,
   "metadata": {},
   "outputs": [],
   "source": [
    "# init wandb\n",
    "import os\n",
    "import wandb\n",
    "from dotenv import load_dotenv\n",
    "\n",
    "load_dotenv()\n",
    "wandb.login(key=os.getenv(\"WANDB_KEY\")) \n"
   ]
  },
  {
   "cell_type": "code",
   "execution_count": null,
   "metadata": {},
   "outputs": [],
   "source": [
    "# train\n",
    "\n",
    "timehr_model._fit(train_dataset, val_dataset)"
   ]
  },
  {
   "cell_type": "markdown",
   "metadata": {},
   "source": [
    "# Generate\n",
    "\n",
    "`fake_static` is generated using `CTGAN` and `fake_data`(time series data) is generated using `TimEHR` conditioned on `fake_static`."
   ]
  },
  {
   "cell_type": "code",
   "execution_count": null,
   "metadata": {},
   "outputs": [],
   "source": [
    "fake_static, fake_data = timehr_model._generate(count=1000, train_dataset = train_dataset, method='ctgan')\n",
    "\n"
   ]
  },
  {
   "cell_type": "code",
   "execution_count": null,
   "metadata": {},
   "outputs": [],
   "source": [
    "# converting to dataframes\n",
    "from synthcity.plugins.core.models.timehr.utils import mat2df\n",
    "\n",
    "df_ts_fake, df_static_fake = mat2df(fake_data,fake_static, train_dataset.dynamic_processor, train_dataset.static_processor)\n"
   ]
  },
  {
   "cell_type": "code",
   "execution_count": null,
   "metadata": {},
   "outputs": [],
   "source": [
    "df_static_fake\n",
    "df_ts_fake"
   ]
  },
  {
   "cell_type": "markdown",
   "metadata": {},
   "source": [
    "# Conclusion\n",
    "* Please refere to the original repository for visualization and evaluation of the generated data."
   ]
  }
 ],
 "metadata": {
  "kernelspec": {
   "display_name": "Python 3 (ipykernel)",
   "language": "python",
   "name": "python3"
  },
  "language_info": {
   "codemirror_mode": {
    "name": "ipython",
    "version": 3
   },
   "file_extension": ".py",
   "mimetype": "text/x-python",
   "name": "python",
   "nbconvert_exporter": "python",
   "pygments_lexer": "ipython3",
   "version": "3.9.7"
  }
 },
 "nbformat": 4,
 "nbformat_minor": 1
}
